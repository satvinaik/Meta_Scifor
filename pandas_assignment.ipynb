{
 "cells": [
  {
   "cell_type": "code",
   "execution_count": 13,
   "id": "15026af4-041b-4ec3-8e6b-461f30134937",
   "metadata": {},
   "outputs": [],
   "source": [
    "import pandas as pd\n",
    "import numpy as np\n"
   ]
  },
  {
   "cell_type": "code",
   "execution_count": null,
   "id": "4cba97f6-3fb0-43ad-a4a7-2888786669c8",
   "metadata": {},
   "outputs": [],
   "source": [
    "#creating a series"
   ]
  },
  {
   "cell_type": "code",
   "execution_count": 5,
   "id": "e9154852-4f34-407e-83ac-5372c4b34f30",
   "metadata": {},
   "outputs": [],
   "source": [
    "s=pd.Series()"
   ]
  },
  {
   "cell_type": "code",
   "execution_count": 6,
   "id": "49a33129-7a4c-4081-b29d-69394d9c4f3e",
   "metadata": {},
   "outputs": [
    {
     "data": {
      "text/plain": [
       "Series([], dtype: object)"
      ]
     },
     "execution_count": 6,
     "metadata": {},
     "output_type": "execute_result"
    }
   ],
   "source": [
    "s"
   ]
  },
  {
   "cell_type": "code",
   "execution_count": 11,
   "id": "7be3db9f-0d3e-4177-a2e4-c816bc7cf982",
   "metadata": {},
   "outputs": [
    {
     "name": "stdout",
     "output_type": "stream",
     "text": [
      "0       0\n",
      "1      11\n",
      "2      22\n",
      "3      33\n",
      "4      44\n",
      "5      55\n",
      "6      66\n",
      "7      77\n",
      "8      88\n",
      "9      98\n",
      "10    100\n",
      "dtype: int64\n"
     ]
    }
   ],
   "source": [
    "s = pd.Series([0,11,22,33,44,55,66,77,88,98,100])\n",
    "print(s)"
   ]
  },
  {
   "cell_type": "code",
   "execution_count": 12,
   "id": "52e1b265-1496-4e9a-b46a-59667d79521a",
   "metadata": {},
   "outputs": [
    {
     "name": "stdout",
     "output_type": "stream",
     "text": [
      "0      100\n",
      "1    15.37\n",
      "2    satvi\n",
      "dtype: object\n"
     ]
    }
   ],
   "source": [
    "s = pd.Series([100,15.37,'satvi'])\n",
    "print(s)"
   ]
  },
  {
   "cell_type": "code",
   "execution_count": 14,
   "id": "b1f6f4ce-31d9-405b-a281-ee14639c5e58",
   "metadata": {},
   "outputs": [],
   "source": [
    "#creating dictionary "
   ]
  },
  {
   "cell_type": "code",
   "execution_count": 31,
   "id": "185c9392-e08d-49fd-a4dc-092efa74f121",
   "metadata": {},
   "outputs": [],
   "source": [
    "d={'ID':[6,7,8],'AGE':[15,28,19],'SCORE':[58,86,97]}"
   ]
  },
  {
   "cell_type": "code",
   "execution_count": 32,
   "id": "df3ace9b-3f7a-4ae7-aed8-00fdc42ba8c0",
   "metadata": {},
   "outputs": [
    {
     "name": "stdout",
     "output_type": "stream",
     "text": [
      "   ID  AGE  SCORE\n",
      "0   6   15     58\n",
      "1   7   28     86\n",
      "2   8   19     97\n"
     ]
    }
   ],
   "source": [
    "df=pd.DataFrame(d)\n",
    "print(df)"
   ]
  },
  {
   "cell_type": "code",
   "execution_count": 35,
   "id": "4f60e165-7cd9-411f-8b66-ca2f306ff200",
   "metadata": {},
   "outputs": [],
   "source": [
    "df['TIME'] = \"23.2:25.3:24.9\".split(':')"
   ]
  },
  {
   "cell_type": "code",
   "execution_count": 36,
   "id": "6977577a-d49b-4b3b-a048-d317d314b644",
   "metadata": {},
   "outputs": [
    {
     "name": "stdout",
     "output_type": "stream",
     "text": [
      "   ID  AGE  SCORE  time  TIME\n",
      "0   6   15     58  23.2  23.2\n",
      "1   7   28     86  25.3  25.3\n",
      "2   8   19     97  24.9  24.9\n"
     ]
    }
   ],
   "source": [
    "print(df)"
   ]
  },
  {
   "cell_type": "code",
   "execution_count": 39,
   "id": "876b450b-2f52-4571-96bd-e7d625fc0a6f",
   "metadata": {},
   "outputs": [
    {
     "data": {
      "text/plain": [
       "{'ID': [6, 7, 8], 'AGE': [15, nan, 19], 'SCORE': [nan, 86, 97]}"
      ]
     },
     "execution_count": 39,
     "metadata": {},
     "output_type": "execute_result"
    }
   ],
   "source": [
    "d={'ID':[6,7,8],'AGE':[15,np.nan,19],'SCORE':[np.nan,86,97]}\n",
    "d"
   ]
  },
  {
   "cell_type": "code",
   "execution_count": 40,
   "id": "5c474837-8793-43c7-9450-748efb7ca4f3",
   "metadata": {},
   "outputs": [
    {
     "name": "stdout",
     "output_type": "stream",
     "text": [
      "   ID   AGE  SCORE\n",
      "0   6  15.0    NaN\n",
      "1   7   NaN   86.0\n",
      "2   8  19.0   97.0\n"
     ]
    }
   ],
   "source": [
    "df=pd.DataFrame(d)\n",
    "print(df)"
   ]
  },
  {
   "cell_type": "code",
   "execution_count": 41,
   "id": "32183518-bd13-44b9-bc28-aa8d684b1a65",
   "metadata": {},
   "outputs": [
    {
     "name": "stdout",
     "output_type": "stream",
     "text": [
      "excluding nan value collums\n",
      "   ID\n",
      "0   6\n",
      "1   7\n",
      "2   8\n"
     ]
    }
   ],
   "source": [
    "print(\"excluding nan value collums\")\n",
    "print(df.dropna(axis=1))"
   ]
  },
  {
   "cell_type": "code",
   "execution_count": 42,
   "id": "4b4df19e-3a6b-4729-bbe2-5691c512c0e1",
   "metadata": {},
   "outputs": [
    {
     "name": "stdout",
     "output_type": "stream",
     "text": [
      "   ID   AGE  SCORE\n",
      "0   6  15.0    NaN\n",
      "1   7   NaN   86.0\n",
      "2   8  19.0   97.0\n"
     ]
    }
   ],
   "source": [
    "print(df)"
   ]
  },
  {
   "cell_type": "code",
   "execution_count": 43,
   "id": "46b36386-31b6-4a10-8ed1-cea39825cf64",
   "metadata": {},
   "outputs": [
    {
     "name": "stdout",
     "output_type": "stream",
     "text": [
      "excluding nan value rows\n",
      "   ID   AGE  SCORE\n",
      "2   8  19.0   97.0\n"
     ]
    }
   ],
   "source": [
    "print(\"excluding nan value rows\")\n",
    "print(df.dropna(axis=0))"
   ]
  },
  {
   "cell_type": "code",
   "execution_count": 44,
   "id": "d88b2763-fec2-40a6-9b76-0b28185b1d86",
   "metadata": {},
   "outputs": [
    {
     "name": "stdout",
     "output_type": "stream",
     "text": [
      "   ID   AGE  SCORE\n",
      "0   6  15.0    NaN\n",
      "1   7   NaN   86.0\n",
      "2   8  19.0   97.0\n"
     ]
    }
   ],
   "source": [
    "print(df)"
   ]
  },
  {
   "cell_type": "code",
   "execution_count": 45,
   "id": "662b0948-6984-4de3-ab8e-be1c47efef00",
   "metadata": {},
   "outputs": [
    {
     "name": "stdout",
     "output_type": "stream",
     "text": [
      "nan values replaced with 10\n",
      "   ID   AGE  SCORE\n",
      "0   6  15.0   10.0\n",
      "1   7  10.0   86.0\n",
      "2   8  19.0   97.0\n"
     ]
    }
   ],
   "source": [
    "print(\"nan values replaced with 10\")\n",
    "print(df.fillna(10))"
   ]
  },
  {
   "cell_type": "code",
   "execution_count": 46,
   "id": "bf32c3a9-91b5-4690-b727-4f906ec71039",
   "metadata": {},
   "outputs": [
    {
     "name": "stdout",
     "output_type": "stream",
     "text": [
      "replacing nan values with mean of colums\n",
      "   ID   AGE  SCORE\n",
      "0   6  15.0   17.0\n",
      "1   7  17.0   86.0\n",
      "2   8  19.0   97.0\n"
     ]
    }
   ],
   "source": [
    "print(\"replacing nan values with mean of colums\")\n",
    "df.fillna(value=df['AGE'].mean(),inplace=True)\n",
    "print(df)"
   ]
  },
  {
   "cell_type": "code",
   "execution_count": 47,
   "id": "c4fe3158-4d04-4875-9d88-d36c7e9443be",
   "metadata": {},
   "outputs": [
    {
     "name": "stdout",
     "output_type": "stream",
     "text": [
      "   ID   AGE  SCORE\n",
      "0   6  15.0   17.0\n",
      "1   7  17.0   86.0\n",
      "2   8  19.0   97.0\n"
     ]
    }
   ],
   "source": [
    "print(df)"
   ]
  },
  {
   "cell_type": "code",
   "execution_count": 48,
   "id": "63e44dd2-42bb-4b17-ad85-cfc05a0d1524",
   "metadata": {},
   "outputs": [],
   "source": [
    "#creating dataframe"
   ]
  },
  {
   "cell_type": "code",
   "execution_count": 52,
   "id": "14655bc9-998d-4591-bee0-e02988c9f94b",
   "metadata": {},
   "outputs": [],
   "source": [
    "data={'Company':['fb','google','apple','google','fb','apple'],\n",
    "      'Person':['Sam','Charlie','Amy','Vanessa','Carl','Sarah'],\n",
    "     'Sales':[500,240,490,243,304,378]}"
   ]
  },
  {
   "cell_type": "code",
   "execution_count": 53,
   "id": "ca79a755-2771-4e3a-aece-b25000b2f51e",
   "metadata": {},
   "outputs": [
    {
     "name": "stdout",
     "output_type": "stream",
     "text": [
      "  Company   Person  Sales\n",
      "0      fb      Sam    500\n",
      "1  google  Charlie    240\n",
      "2   apple      Amy    490\n",
      "3  google  Vanessa    243\n",
      "4      fb     Carl    304\n",
      "5   apple    Sarah    378\n"
     ]
    }
   ],
   "source": [
    "df= pd.DataFrame(data)\n",
    "print(df)"
   ]
  },
  {
   "cell_type": "code",
   "execution_count": 54,
   "id": "4687ea1c-9259-44b5-b73e-9c899fe9995c",
   "metadata": {},
   "outputs": [
    {
     "name": "stdout",
     "output_type": "stream",
     "text": [
      "Company\n",
      "apple     434.0\n",
      "fb        402.0\n",
      "google    241.5\n",
      "Name: Sales, dtype: float64\n"
     ]
    }
   ],
   "source": [
    "bycomp = df.groupby('Company')\n",
    "print(bycomp['Sales'].mean())"
   ]
  },
  {
   "cell_type": "code",
   "execution_count": 55,
   "id": "30015cd0-9966-48f6-a200-7101ea42614f",
   "metadata": {},
   "outputs": [
    {
     "name": "stdout",
     "output_type": "stream",
     "text": [
      "Company\n",
      "apple     868\n",
      "fb        804\n",
      "google    483\n",
      "Name: Sales, dtype: int64\n"
     ]
    }
   ],
   "source": [
    "print(bycomp['Sales'].sum())"
   ]
  },
  {
   "cell_type": "code",
   "execution_count": 56,
   "id": "5108c5dd-0e1e-4966-a2dc-f3dfa04e3556",
   "metadata": {},
   "outputs": [],
   "source": [
    "#working with concatination"
   ]
  },
  {
   "cell_type": "code",
   "execution_count": 57,
   "id": "af69afcc-de26-4a2f-9991-1dd19fe7a743",
   "metadata": {},
   "outputs": [
    {
     "data": {
      "text/html": [
       "<div>\n",
       "<style scoped>\n",
       "    .dataframe tbody tr th:only-of-type {\n",
       "        vertical-align: middle;\n",
       "    }\n",
       "\n",
       "    .dataframe tbody tr th {\n",
       "        vertical-align: top;\n",
       "    }\n",
       "\n",
       "    .dataframe thead th {\n",
       "        text-align: right;\n",
       "    }\n",
       "</style>\n",
       "<table border=\"1\" class=\"dataframe\">\n",
       "  <thead>\n",
       "    <tr style=\"text-align: right;\">\n",
       "      <th></th>\n",
       "      <th>math</th>\n",
       "      <th>english</th>\n",
       "      <th>science</th>\n",
       "      <th>chem</th>\n",
       "    </tr>\n",
       "  </thead>\n",
       "  <tbody>\n",
       "    <tr>\n",
       "      <th>rohit</th>\n",
       "      <td>45</td>\n",
       "      <td>54</td>\n",
       "      <td>66</td>\n",
       "      <td>54</td>\n",
       "    </tr>\n",
       "    <tr>\n",
       "      <th>shad</th>\n",
       "      <td>68</td>\n",
       "      <td>87</td>\n",
       "      <td>77</td>\n",
       "      <td>79</td>\n",
       "    </tr>\n",
       "    <tr>\n",
       "      <th>arman</th>\n",
       "      <td>35</td>\n",
       "      <td>36</td>\n",
       "      <td>88</td>\n",
       "      <td>58</td>\n",
       "    </tr>\n",
       "    <tr>\n",
       "      <th>abhi</th>\n",
       "      <td>65</td>\n",
       "      <td>52</td>\n",
       "      <td>70</td>\n",
       "      <td>76</td>\n",
       "    </tr>\n",
       "  </tbody>\n",
       "</table>\n",
       "</div>"
      ],
      "text/plain": [
       "       math  english  science  chem\n",
       "rohit    45       54       66    54\n",
       "shad     68       87       77    79\n",
       "arman    35       36       88    58\n",
       "abhi     65       52       70    76"
      ]
     },
     "execution_count": 57,
     "metadata": {},
     "output_type": "execute_result"
    }
   ],
   "source": [
    "class_1=pd.DataFrame({'math':[45,68,35,65],\n",
    "                     'english':[54,87,36,52],\n",
    "                     'science':[66,77,88,70],\n",
    "                     'chem':[54,79,58,76]},\n",
    "                    index=['rohit','shad','arman','abhi'])\n",
    "class_1"
   ]
  },
  {
   "cell_type": "code",
   "execution_count": 67,
   "id": "b17b66a0-ff4a-42ee-aa23-4882ce3c3caf",
   "metadata": {},
   "outputs": [
    {
     "data": {
      "text/html": [
       "<div>\n",
       "<style scoped>\n",
       "    .dataframe tbody tr th:only-of-type {\n",
       "        vertical-align: middle;\n",
       "    }\n",
       "\n",
       "    .dataframe tbody tr th {\n",
       "        vertical-align: top;\n",
       "    }\n",
       "\n",
       "    .dataframe thead th {\n",
       "        text-align: right;\n",
       "    }\n",
       "</style>\n",
       "<table border=\"1\" class=\"dataframe\">\n",
       "  <thead>\n",
       "    <tr style=\"text-align: right;\">\n",
       "      <th></th>\n",
       "      <th>math</th>\n",
       "      <th>english</th>\n",
       "      <th>science</th>\n",
       "      <th>chem</th>\n",
       "    </tr>\n",
       "  </thead>\n",
       "  <tbody>\n",
       "    <tr>\n",
       "      <th>ishaan</th>\n",
       "      <td>50</td>\n",
       "      <td>66</td>\n",
       "      <td>34</td>\n",
       "      <td>54</td>\n",
       "    </tr>\n",
       "    <tr>\n",
       "      <th>mahika</th>\n",
       "      <td>87</td>\n",
       "      <td>50</td>\n",
       "      <td>66</td>\n",
       "      <td>87</td>\n",
       "    </tr>\n",
       "    <tr>\n",
       "      <th>viral</th>\n",
       "      <td>69</td>\n",
       "      <td>87</td>\n",
       "      <td>69</td>\n",
       "      <td>34</td>\n",
       "    </tr>\n",
       "    <tr>\n",
       "      <th>motupalli</th>\n",
       "      <td>71</td>\n",
       "      <td>69</td>\n",
       "      <td>71</td>\n",
       "      <td>66</td>\n",
       "    </tr>\n",
       "  </tbody>\n",
       "</table>\n",
       "</div>"
      ],
      "text/plain": [
       "           math  english  science  chem\n",
       "ishaan       50       66       34    54\n",
       "mahika       87       50       66    87\n",
       "viral        69       87       69    34\n",
       "motupalli    71       69       71    66"
      ]
     },
     "execution_count": 67,
     "metadata": {},
     "output_type": "execute_result"
    }
   ],
   "source": [
    "class_2=pd.DataFrame({'math':[50,87,69,71],\n",
    "                     'english':[66,50,87,69],\n",
    "                     'science':[34,66,69,71],\n",
    "                     'chem':[54,87,34,66]},\n",
    "                    index=['ishaan','mahika','viral','motupalli'])\n",
    "class_2"
   ]
  },
  {
   "cell_type": "code",
   "execution_count": 68,
   "id": "43167cef-a31d-4a79-8545-a900ae5cb8f9",
   "metadata": {},
   "outputs": [
    {
     "data": {
      "text/html": [
       "<div>\n",
       "<style scoped>\n",
       "    .dataframe tbody tr th:only-of-type {\n",
       "        vertical-align: middle;\n",
       "    }\n",
       "\n",
       "    .dataframe tbody tr th {\n",
       "        vertical-align: top;\n",
       "    }\n",
       "\n",
       "    .dataframe thead th {\n",
       "        text-align: right;\n",
       "    }\n",
       "</style>\n",
       "<table border=\"1\" class=\"dataframe\">\n",
       "  <thead>\n",
       "    <tr style=\"text-align: right;\">\n",
       "      <th></th>\n",
       "      <th>math</th>\n",
       "      <th>english</th>\n",
       "      <th>science</th>\n",
       "      <th>chem</th>\n",
       "    </tr>\n",
       "  </thead>\n",
       "  <tbody>\n",
       "    <tr>\n",
       "      <th>aashi</th>\n",
       "      <td>66</td>\n",
       "      <td>56</td>\n",
       "      <td>77</td>\n",
       "      <td>34</td>\n",
       "    </tr>\n",
       "    <tr>\n",
       "      <th>arnav</th>\n",
       "      <td>50</td>\n",
       "      <td>87</td>\n",
       "      <td>88</td>\n",
       "      <td>56</td>\n",
       "    </tr>\n",
       "    <tr>\n",
       "      <th>sanky</th>\n",
       "      <td>87</td>\n",
       "      <td>89</td>\n",
       "      <td>70</td>\n",
       "      <td>56</td>\n",
       "    </tr>\n",
       "    <tr>\n",
       "      <th>dhruv</th>\n",
       "      <td>56</td>\n",
       "      <td>71</td>\n",
       "      <td>52</td>\n",
       "      <td>87</td>\n",
       "    </tr>\n",
       "  </tbody>\n",
       "</table>\n",
       "</div>"
      ],
      "text/plain": [
       "       math  english  science  chem\n",
       "aashi    66       56       77    34\n",
       "arnav    50       87       88    56\n",
       "sanky    87       89       70    56\n",
       "dhruv    56       71       52    87"
      ]
     },
     "execution_count": 68,
     "metadata": {},
     "output_type": "execute_result"
    }
   ],
   "source": [
    "class_3=pd.DataFrame({'math':[66,50,87,56],\n",
    "                     'english':[56,87,89,71],\n",
    "                     'science':[77,88,70,52],\n",
    "                     'chem':[34,56,56,87]},\n",
    "                    index=['aashi','arnav','sanky','dhruv'])\n",
    "class_3"
   ]
  },
  {
   "cell_type": "code",
   "execution_count": 69,
   "id": "83a452c6-2757-4471-a15d-2ec10dc0c09b",
   "metadata": {},
   "outputs": [],
   "source": [
    "#concatination"
   ]
  },
  {
   "cell_type": "code",
   "execution_count": 70,
   "id": "cb994aa1-50e1-4860-b9e1-a3a2e3dbc5a1",
   "metadata": {},
   "outputs": [
    {
     "name": "stdout",
     "output_type": "stream",
     "text": [
      "concatinated by rows\n",
      "           math  english  science  chem\n",
      "rohit        45       54       66    54\n",
      "shad         68       87       77    79\n",
      "arman        35       36       88    58\n",
      "abhi         65       52       70    76\n",
      "ishaan       50       66       34    54\n",
      "mahika       87       50       66    87\n",
      "viral        69       87       69    34\n",
      "motupalli    71       69       71    66\n",
      "aashi        66       56       77    34\n",
      "arnav        50       87       88    56\n",
      "sanky        87       89       70    56\n",
      "dhruv        56       71       52    87\n"
     ]
    }
   ],
   "source": [
    "print(\"concatinated by rows\")\n",
    "grades=pd.concat([class_1,class_2,class_3],axis=0)\n",
    "print(grades)"
   ]
  },
  {
   "cell_type": "code",
   "execution_count": 72,
   "id": "bc8c4f8e-d159-4a1d-8b7a-5d5c2512de24",
   "metadata": {},
   "outputs": [
    {
     "name": "stdout",
     "output_type": "stream",
     "text": [
      "concatinating by collums\n",
      "           math  english  science  chem  math  english  science  chem  math  \\\n",
      "rohit      45.0     54.0     66.0  54.0   NaN      NaN      NaN   NaN   NaN   \n",
      "shad       68.0     87.0     77.0  79.0   NaN      NaN      NaN   NaN   NaN   \n",
      "arman      35.0     36.0     88.0  58.0   NaN      NaN      NaN   NaN   NaN   \n",
      "abhi       65.0     52.0     70.0  76.0   NaN      NaN      NaN   NaN   NaN   \n",
      "ishaan      NaN      NaN      NaN   NaN  50.0     66.0     34.0  54.0   NaN   \n",
      "mahika      NaN      NaN      NaN   NaN  87.0     50.0     66.0  87.0   NaN   \n",
      "viral       NaN      NaN      NaN   NaN  69.0     87.0     69.0  34.0   NaN   \n",
      "motupalli   NaN      NaN      NaN   NaN  71.0     69.0     71.0  66.0   NaN   \n",
      "aashi       NaN      NaN      NaN   NaN   NaN      NaN      NaN   NaN  66.0   \n",
      "arnav       NaN      NaN      NaN   NaN   NaN      NaN      NaN   NaN  50.0   \n",
      "sanky       NaN      NaN      NaN   NaN   NaN      NaN      NaN   NaN  87.0   \n",
      "dhruv       NaN      NaN      NaN   NaN   NaN      NaN      NaN   NaN  56.0   \n",
      "\n",
      "           english  science  chem  \n",
      "rohit          NaN      NaN   NaN  \n",
      "shad           NaN      NaN   NaN  \n",
      "arman          NaN      NaN   NaN  \n",
      "abhi           NaN      NaN   NaN  \n",
      "ishaan         NaN      NaN   NaN  \n",
      "mahika         NaN      NaN   NaN  \n",
      "viral          NaN      NaN   NaN  \n",
      "motupalli      NaN      NaN   NaN  \n",
      "aashi         56.0     77.0  34.0  \n",
      "arnav         87.0     88.0  56.0  \n",
      "sanky         89.0     70.0  56.0  \n",
      "dhruv         71.0     52.0  87.0  \n"
     ]
    }
   ],
   "source": [
    "print(\"concatinating by collums\")\n",
    "df=pd.concat([class_1,class_2,class_3],axis=1)\n",
    "print(df)"
   ]
  },
  {
   "cell_type": "code",
   "execution_count": 73,
   "id": "52941553-a4a5-40b1-8a13-27cf8c1ae281",
   "metadata": {},
   "outputs": [
    {
     "name": "stdout",
     "output_type": "stream",
     "text": [
      "           math  english  science  chem  math  english  science  chem  math  \\\n",
      "rohit      45.0     54.0     66.0  54.0   0.0      0.0      0.0   0.0   0.0   \n",
      "shad       68.0     87.0     77.0  79.0   0.0      0.0      0.0   0.0   0.0   \n",
      "arman      35.0     36.0     88.0  58.0   0.0      0.0      0.0   0.0   0.0   \n",
      "abhi       65.0     52.0     70.0  76.0   0.0      0.0      0.0   0.0   0.0   \n",
      "ishaan      0.0      0.0      0.0   0.0  50.0     66.0     34.0  54.0   0.0   \n",
      "mahika      0.0      0.0      0.0   0.0  87.0     50.0     66.0  87.0   0.0   \n",
      "viral       0.0      0.0      0.0   0.0  69.0     87.0     69.0  34.0   0.0   \n",
      "motupalli   0.0      0.0      0.0   0.0  71.0     69.0     71.0  66.0   0.0   \n",
      "aashi       0.0      0.0      0.0   0.0   0.0      0.0      0.0   0.0  66.0   \n",
      "arnav       0.0      0.0      0.0   0.0   0.0      0.0      0.0   0.0  50.0   \n",
      "sanky       0.0      0.0      0.0   0.0   0.0      0.0      0.0   0.0  87.0   \n",
      "dhruv       0.0      0.0      0.0   0.0   0.0      0.0      0.0   0.0  56.0   \n",
      "\n",
      "           english  science  chem  \n",
      "rohit          0.0      0.0   0.0  \n",
      "shad           0.0      0.0   0.0  \n",
      "arman          0.0      0.0   0.0  \n",
      "abhi           0.0      0.0   0.0  \n",
      "ishaan         0.0      0.0   0.0  \n",
      "mahika         0.0      0.0   0.0  \n",
      "viral          0.0      0.0   0.0  \n",
      "motupalli      0.0      0.0   0.0  \n",
      "aashi         56.0     77.0  34.0  \n",
      "arnav         87.0     88.0  56.0  \n",
      "sanky         89.0     70.0  56.0  \n",
      "dhruv         71.0     52.0  87.0  \n"
     ]
    }
   ],
   "source": [
    "df.fillna(0,inplace=True)\n",
    "print(df)"
   ]
  },
  {
   "cell_type": "code",
   "execution_count": 74,
   "id": "326c733d-560d-4e7e-ad4b-c3bd38d2db9c",
   "metadata": {},
   "outputs": [],
   "source": [
    "#merge\n"
   ]
  },
  {
   "cell_type": "code",
   "execution_count": 75,
   "id": "e8857441-bbdb-45a0-a095-118761022ef1",
   "metadata": {},
   "outputs": [],
   "source": [
    "player_id_name=pd.DataFrame({'ID':[25,30,35,40,45,50,55],\n",
    "                            'Name':['Ronaldo','Messi','Pele','Maradona','Harry','Pogba','Chhetri']})"
   ]
  },
  {
   "cell_type": "code",
   "execution_count": 76,
   "id": "a7f6f813-d31d-4aa0-a1a2-8f7aedf9b5e4",
   "metadata": {},
   "outputs": [],
   "source": [
    "player_detail=pd.DataFrame({'ID':[25,30,45,50,55],\n",
    "                            'Age':[36,34,20,28,37],\n",
    "                            'Country':['Porugal','Argentina','England','France','India']})\n"
   ]
  },
  {
   "cell_type": "code",
   "execution_count": 78,
   "id": "38cff623-6472-43c5-9dda-e00df395abc7",
   "metadata": {},
   "outputs": [
    {
     "data": {
      "text/html": [
       "<div>\n",
       "<style scoped>\n",
       "    .dataframe tbody tr th:only-of-type {\n",
       "        vertical-align: middle;\n",
       "    }\n",
       "\n",
       "    .dataframe tbody tr th {\n",
       "        vertical-align: top;\n",
       "    }\n",
       "\n",
       "    .dataframe thead th {\n",
       "        text-align: right;\n",
       "    }\n",
       "</style>\n",
       "<table border=\"1\" class=\"dataframe\">\n",
       "  <thead>\n",
       "    <tr style=\"text-align: right;\">\n",
       "      <th></th>\n",
       "      <th>ID</th>\n",
       "      <th>Name</th>\n",
       "    </tr>\n",
       "  </thead>\n",
       "  <tbody>\n",
       "    <tr>\n",
       "      <th>0</th>\n",
       "      <td>25</td>\n",
       "      <td>Ronaldo</td>\n",
       "    </tr>\n",
       "    <tr>\n",
       "      <th>1</th>\n",
       "      <td>30</td>\n",
       "      <td>Messi</td>\n",
       "    </tr>\n",
       "    <tr>\n",
       "      <th>2</th>\n",
       "      <td>35</td>\n",
       "      <td>Pele</td>\n",
       "    </tr>\n",
       "    <tr>\n",
       "      <th>3</th>\n",
       "      <td>40</td>\n",
       "      <td>Maradona</td>\n",
       "    </tr>\n",
       "    <tr>\n",
       "      <th>4</th>\n",
       "      <td>45</td>\n",
       "      <td>Harry</td>\n",
       "    </tr>\n",
       "    <tr>\n",
       "      <th>5</th>\n",
       "      <td>50</td>\n",
       "      <td>Pogba</td>\n",
       "    </tr>\n",
       "    <tr>\n",
       "      <th>6</th>\n",
       "      <td>55</td>\n",
       "      <td>Chhetri</td>\n",
       "    </tr>\n",
       "  </tbody>\n",
       "</table>\n",
       "</div>"
      ],
      "text/plain": [
       "   ID      Name\n",
       "0  25   Ronaldo\n",
       "1  30     Messi\n",
       "2  35      Pele\n",
       "3  40  Maradona\n",
       "4  45     Harry\n",
       "5  50     Pogba\n",
       "6  55   Chhetri"
      ]
     },
     "execution_count": 78,
     "metadata": {},
     "output_type": "execute_result"
    }
   ],
   "source": [
    "player_id_name"
   ]
  },
  {
   "cell_type": "code",
   "execution_count": 79,
   "id": "4b08a4c4-f073-49ee-8d8b-b2afbec911d3",
   "metadata": {},
   "outputs": [
    {
     "data": {
      "text/html": [
       "<div>\n",
       "<style scoped>\n",
       "    .dataframe tbody tr th:only-of-type {\n",
       "        vertical-align: middle;\n",
       "    }\n",
       "\n",
       "    .dataframe tbody tr th {\n",
       "        vertical-align: top;\n",
       "    }\n",
       "\n",
       "    .dataframe thead th {\n",
       "        text-align: right;\n",
       "    }\n",
       "</style>\n",
       "<table border=\"1\" class=\"dataframe\">\n",
       "  <thead>\n",
       "    <tr style=\"text-align: right;\">\n",
       "      <th></th>\n",
       "      <th>ID</th>\n",
       "      <th>Age</th>\n",
       "      <th>Country</th>\n",
       "    </tr>\n",
       "  </thead>\n",
       "  <tbody>\n",
       "    <tr>\n",
       "      <th>0</th>\n",
       "      <td>25</td>\n",
       "      <td>36</td>\n",
       "      <td>Porugal</td>\n",
       "    </tr>\n",
       "    <tr>\n",
       "      <th>1</th>\n",
       "      <td>30</td>\n",
       "      <td>34</td>\n",
       "      <td>Argentina</td>\n",
       "    </tr>\n",
       "    <tr>\n",
       "      <th>2</th>\n",
       "      <td>45</td>\n",
       "      <td>20</td>\n",
       "      <td>England</td>\n",
       "    </tr>\n",
       "    <tr>\n",
       "      <th>3</th>\n",
       "      <td>50</td>\n",
       "      <td>28</td>\n",
       "      <td>France</td>\n",
       "    </tr>\n",
       "    <tr>\n",
       "      <th>4</th>\n",
       "      <td>55</td>\n",
       "      <td>37</td>\n",
       "      <td>India</td>\n",
       "    </tr>\n",
       "  </tbody>\n",
       "</table>\n",
       "</div>"
      ],
      "text/plain": [
       "   ID  Age    Country\n",
       "0  25   36    Porugal\n",
       "1  30   34  Argentina\n",
       "2  45   20    England\n",
       "3  50   28     France\n",
       "4  55   37      India"
      ]
     },
     "execution_count": 79,
     "metadata": {},
     "output_type": "execute_result"
    }
   ],
   "source": [
    "player_detail"
   ]
  },
  {
   "cell_type": "code",
   "execution_count": 81,
   "id": "63644b86-45cd-400b-9b80-76529bd595d7",
   "metadata": {},
   "outputs": [
    {
     "name": "stdout",
     "output_type": "stream",
     "text": [
      "merged\n"
     ]
    },
    {
     "data": {
      "text/html": [
       "<div>\n",
       "<style scoped>\n",
       "    .dataframe tbody tr th:only-of-type {\n",
       "        vertical-align: middle;\n",
       "    }\n",
       "\n",
       "    .dataframe tbody tr th {\n",
       "        vertical-align: top;\n",
       "    }\n",
       "\n",
       "    .dataframe thead th {\n",
       "        text-align: right;\n",
       "    }\n",
       "</style>\n",
       "<table border=\"1\" class=\"dataframe\">\n",
       "  <thead>\n",
       "    <tr style=\"text-align: right;\">\n",
       "      <th></th>\n",
       "      <th>ID</th>\n",
       "      <th>Name</th>\n",
       "      <th>Age</th>\n",
       "      <th>Country</th>\n",
       "    </tr>\n",
       "  </thead>\n",
       "  <tbody>\n",
       "    <tr>\n",
       "      <th>0</th>\n",
       "      <td>25</td>\n",
       "      <td>Ronaldo</td>\n",
       "      <td>36</td>\n",
       "      <td>Porugal</td>\n",
       "    </tr>\n",
       "    <tr>\n",
       "      <th>1</th>\n",
       "      <td>30</td>\n",
       "      <td>Messi</td>\n",
       "      <td>34</td>\n",
       "      <td>Argentina</td>\n",
       "    </tr>\n",
       "    <tr>\n",
       "      <th>2</th>\n",
       "      <td>45</td>\n",
       "      <td>Harry</td>\n",
       "      <td>20</td>\n",
       "      <td>England</td>\n",
       "    </tr>\n",
       "    <tr>\n",
       "      <th>3</th>\n",
       "      <td>50</td>\n",
       "      <td>Pogba</td>\n",
       "      <td>28</td>\n",
       "      <td>France</td>\n",
       "    </tr>\n",
       "    <tr>\n",
       "      <th>4</th>\n",
       "      <td>55</td>\n",
       "      <td>Chhetri</td>\n",
       "      <td>37</td>\n",
       "      <td>India</td>\n",
       "    </tr>\n",
       "  </tbody>\n",
       "</table>\n",
       "</div>"
      ],
      "text/plain": [
       "   ID     Name  Age    Country\n",
       "0  25  Ronaldo   36    Porugal\n",
       "1  30    Messi   34  Argentina\n",
       "2  45    Harry   20    England\n",
       "3  50    Pogba   28     France\n",
       "4  55  Chhetri   37      India"
      ]
     },
     "execution_count": 81,
     "metadata": {},
     "output_type": "execute_result"
    }
   ],
   "source": [
    "print(\"merged\")\n",
    "pd.merge(player_id_name,player_detail,on='ID')"
   ]
  },
  {
   "cell_type": "code",
   "execution_count": 82,
   "id": "cf31ac15-1765-47f2-a47d-3125127f019c",
   "metadata": {},
   "outputs": [],
   "source": [
    "#joining"
   ]
  },
  {
   "cell_type": "code",
   "execution_count": 85,
   "id": "97ceed8e-c8e9-4349-871c-7946b7aff457",
   "metadata": {},
   "outputs": [
    {
     "data": {
      "text/html": [
       "<div>\n",
       "<style scoped>\n",
       "    .dataframe tbody tr th:only-of-type {\n",
       "        vertical-align: middle;\n",
       "    }\n",
       "\n",
       "    .dataframe tbody tr th {\n",
       "        vertical-align: top;\n",
       "    }\n",
       "\n",
       "    .dataframe thead th {\n",
       "        text-align: right;\n",
       "    }\n",
       "</style>\n",
       "<table border=\"1\" class=\"dataframe\">\n",
       "  <thead>\n",
       "    <tr style=\"text-align: right;\">\n",
       "      <th></th>\n",
       "      <th>A</th>\n",
       "      <th>B</th>\n",
       "    </tr>\n",
       "  </thead>\n",
       "  <tbody>\n",
       "    <tr>\n",
       "      <th>K0</th>\n",
       "      <td>A0</td>\n",
       "      <td>B0</td>\n",
       "    </tr>\n",
       "    <tr>\n",
       "      <th>K1</th>\n",
       "      <td>A1</td>\n",
       "      <td>B1</td>\n",
       "    </tr>\n",
       "    <tr>\n",
       "      <th>K2</th>\n",
       "      <td>A2</td>\n",
       "      <td>B2</td>\n",
       "    </tr>\n",
       "  </tbody>\n",
       "</table>\n",
       "</div>"
      ],
      "text/plain": [
       "     A   B\n",
       "K0  A0  B0\n",
       "K1  A1  B1\n",
       "K2  A2  B2"
      ]
     },
     "execution_count": 85,
     "metadata": {},
     "output_type": "execute_result"
    }
   ],
   "source": [
    "left=pd.DataFrame({'A':['A0','A1','A2'],\n",
    "                  'B':['B0','B1','B2']},\n",
    "                 index=['K0','K1','K2'])\n",
    "left"
   ]
  },
  {
   "cell_type": "code",
   "execution_count": 86,
   "id": "ef7bc09f-41f8-4927-b77f-5f3d849b794d",
   "metadata": {},
   "outputs": [
    {
     "data": {
      "text/html": [
       "<div>\n",
       "<style scoped>\n",
       "    .dataframe tbody tr th:only-of-type {\n",
       "        vertical-align: middle;\n",
       "    }\n",
       "\n",
       "    .dataframe tbody tr th {\n",
       "        vertical-align: top;\n",
       "    }\n",
       "\n",
       "    .dataframe thead th {\n",
       "        text-align: right;\n",
       "    }\n",
       "</style>\n",
       "<table border=\"1\" class=\"dataframe\">\n",
       "  <thead>\n",
       "    <tr style=\"text-align: right;\">\n",
       "      <th></th>\n",
       "      <th>C</th>\n",
       "      <th>D</th>\n",
       "    </tr>\n",
       "  </thead>\n",
       "  <tbody>\n",
       "    <tr>\n",
       "      <th>K0</th>\n",
       "      <td>C0</td>\n",
       "      <td>D0</td>\n",
       "    </tr>\n",
       "    <tr>\n",
       "      <th>K2</th>\n",
       "      <td>C2</td>\n",
       "      <td>D2</td>\n",
       "    </tr>\n",
       "    <tr>\n",
       "      <th>K3</th>\n",
       "      <td>C3</td>\n",
       "      <td>D3</td>\n",
       "    </tr>\n",
       "  </tbody>\n",
       "</table>\n",
       "</div>"
      ],
      "text/plain": [
       "     C   D\n",
       "K0  C0  D0\n",
       "K2  C2  D2\n",
       "K3  C3  D3"
      ]
     },
     "execution_count": 86,
     "metadata": {},
     "output_type": "execute_result"
    }
   ],
   "source": [
    "right=pd.DataFrame({'C':['C0','C2','C3'],\n",
    "                   'D':['D0','D2','D3']},\n",
    "                  index=['K0','K2','K3'])\n",
    "right"
   ]
  },
  {
   "cell_type": "code",
   "execution_count": 87,
   "id": "b0432f96-cb76-4f91-aa44-ee1c31d1bd27",
   "metadata": {},
   "outputs": [
    {
     "data": {
      "text/html": [
       "<div>\n",
       "<style scoped>\n",
       "    .dataframe tbody tr th:only-of-type {\n",
       "        vertical-align: middle;\n",
       "    }\n",
       "\n",
       "    .dataframe tbody tr th {\n",
       "        vertical-align: top;\n",
       "    }\n",
       "\n",
       "    .dataframe thead th {\n",
       "        text-align: right;\n",
       "    }\n",
       "</style>\n",
       "<table border=\"1\" class=\"dataframe\">\n",
       "  <thead>\n",
       "    <tr style=\"text-align: right;\">\n",
       "      <th></th>\n",
       "      <th>A</th>\n",
       "      <th>B</th>\n",
       "      <th>C</th>\n",
       "      <th>D</th>\n",
       "    </tr>\n",
       "  </thead>\n",
       "  <tbody>\n",
       "    <tr>\n",
       "      <th>K0</th>\n",
       "      <td>A0</td>\n",
       "      <td>B0</td>\n",
       "      <td>C0</td>\n",
       "      <td>D0</td>\n",
       "    </tr>\n",
       "    <tr>\n",
       "      <th>K1</th>\n",
       "      <td>A1</td>\n",
       "      <td>B1</td>\n",
       "      <td>NaN</td>\n",
       "      <td>NaN</td>\n",
       "    </tr>\n",
       "    <tr>\n",
       "      <th>K2</th>\n",
       "      <td>A2</td>\n",
       "      <td>B2</td>\n",
       "      <td>C2</td>\n",
       "      <td>D2</td>\n",
       "    </tr>\n",
       "  </tbody>\n",
       "</table>\n",
       "</div>"
      ],
      "text/plain": [
       "     A   B    C    D\n",
       "K0  A0  B0   C0   D0\n",
       "K1  A1  B1  NaN  NaN\n",
       "K2  A2  B2   C2   D2"
      ]
     },
     "execution_count": 87,
     "metadata": {},
     "output_type": "execute_result"
    }
   ],
   "source": [
    "left.join(right)"
   ]
  },
  {
   "cell_type": "code",
   "execution_count": 88,
   "id": "f7a898ff-8232-4e81-bd54-4e8b8f89a41d",
   "metadata": {},
   "outputs": [
    {
     "data": {
      "text/html": [
       "<div>\n",
       "<style scoped>\n",
       "    .dataframe tbody tr th:only-of-type {\n",
       "        vertical-align: middle;\n",
       "    }\n",
       "\n",
       "    .dataframe tbody tr th {\n",
       "        vertical-align: top;\n",
       "    }\n",
       "\n",
       "    .dataframe thead th {\n",
       "        text-align: right;\n",
       "    }\n",
       "</style>\n",
       "<table border=\"1\" class=\"dataframe\">\n",
       "  <thead>\n",
       "    <tr style=\"text-align: right;\">\n",
       "      <th></th>\n",
       "      <th>A</th>\n",
       "      <th>B</th>\n",
       "      <th>C</th>\n",
       "      <th>D</th>\n",
       "    </tr>\n",
       "  </thead>\n",
       "  <tbody>\n",
       "    <tr>\n",
       "      <th>K0</th>\n",
       "      <td>A0</td>\n",
       "      <td>B0</td>\n",
       "      <td>C0</td>\n",
       "      <td>D0</td>\n",
       "    </tr>\n",
       "    <tr>\n",
       "      <th>K1</th>\n",
       "      <td>A1</td>\n",
       "      <td>B1</td>\n",
       "      <td>NaN</td>\n",
       "      <td>NaN</td>\n",
       "    </tr>\n",
       "    <tr>\n",
       "      <th>K2</th>\n",
       "      <td>A2</td>\n",
       "      <td>B2</td>\n",
       "      <td>C2</td>\n",
       "      <td>D2</td>\n",
       "    </tr>\n",
       "    <tr>\n",
       "      <th>K3</th>\n",
       "      <td>NaN</td>\n",
       "      <td>NaN</td>\n",
       "      <td>C3</td>\n",
       "      <td>D3</td>\n",
       "    </tr>\n",
       "  </tbody>\n",
       "</table>\n",
       "</div>"
      ],
      "text/plain": [
       "      A    B    C    D\n",
       "K0   A0   B0   C0   D0\n",
       "K1   A1   B1  NaN  NaN\n",
       "K2   A2   B2   C2   D2\n",
       "K3  NaN  NaN   C3   D3"
      ]
     },
     "execution_count": 88,
     "metadata": {},
     "output_type": "execute_result"
    }
   ],
   "source": [
    "left.join(right,how='outer')"
   ]
  },
  {
   "cell_type": "code",
   "execution_count": null,
   "id": "2ffa7d12-1265-466b-9c08-d1753b03fe1c",
   "metadata": {},
   "outputs": [],
   "source": []
  }
 ],
 "metadata": {
  "kernelspec": {
   "display_name": "Python 3 (ipykernel)",
   "language": "python",
   "name": "python3"
  },
  "language_info": {
   "codemirror_mode": {
    "name": "ipython",
    "version": 3
   },
   "file_extension": ".py",
   "mimetype": "text/x-python",
   "name": "python",
   "nbconvert_exporter": "python",
   "pygments_lexer": "ipython3",
   "version": "3.12.4"
  }
 },
 "nbformat": 4,
 "nbformat_minor": 5
}
