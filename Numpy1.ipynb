{
 "cells": [
  {
   "cell_type": "code",
   "execution_count": 1,
   "id": "d4bbb721-dcc8-4b7c-a6e5-f238b6848123",
   "metadata": {},
   "outputs": [],
   "source": [
    "import numpy as np"
   ]
  },
  {
   "cell_type": "code",
   "execution_count": 2,
   "id": "ba3e0b39-003b-406f-af5a-2e3cee3c9758",
   "metadata": {},
   "outputs": [
    {
     "data": {
      "text/plain": [
       "np.float64(3.1622776601683795)"
      ]
     },
     "execution_count": 2,
     "metadata": {},
     "output_type": "execute_result"
    }
   ],
   "source": [
    "np.sqrt(10) #gives exact answer"
   ]
  },
  {
   "cell_type": "code",
   "execution_count": 3,
   "id": "ec68097a-9db0-4a45-a92b-c5abc8f2265c",
   "metadata": {},
   "outputs": [
    {
     "name": "stdout",
     "output_type": "stream",
     "text": [
      "18\n"
     ]
    }
   ],
   "source": [
    "print(np.amin([25,30,57,18]))#prints minimum"
   ]
  },
  {
   "cell_type": "code",
   "execution_count": 4,
   "id": "731ae2da-a81e-4635-9748-ac83cdc0aac4",
   "metadata": {},
   "outputs": [
    {
     "name": "stdout",
     "output_type": "stream",
     "text": [
      "57\n"
     ]
    }
   ],
   "source": [
    "print(np.amax([25,30,57,18]))#prints maximum"
   ]
  },
  {
   "cell_type": "code",
   "execution_count": 5,
   "id": "6832e8aa-8231-4796-b416-dd9c5620c20f",
   "metadata": {},
   "outputs": [
    {
     "data": {
      "text/plain": [
       "np.float64(30.0)"
      ]
     },
     "execution_count": 5,
     "metadata": {},
     "output_type": "execute_result"
    }
   ],
   "source": [
    "np.ceil(29.1) #rounds UP"
   ]
  },
  {
   "cell_type": "code",
   "execution_count": 6,
   "id": "7ef37b4e-79bf-431d-b2f9-f57005edcd0f",
   "metadata": {},
   "outputs": [
    {
     "data": {
      "text/plain": [
       "np.float64(4.0)"
      ]
     },
     "execution_count": 6,
     "metadata": {},
     "output_type": "execute_result"
    }
   ],
   "source": [
    "np.ceil(np.sqrt(10))"
   ]
  },
  {
   "cell_type": "code",
   "execution_count": 7,
   "id": "06ced3f4-e9cd-4f2c-bf9d-99ef20b9c494",
   "metadata": {},
   "outputs": [
    {
     "data": {
      "text/plain": [
       "np.float64(10.0)"
      ]
     },
     "execution_count": 7,
     "metadata": {},
     "output_type": "execute_result"
    }
   ],
   "source": [
    "np.ceil(np.sum(np.sqrt([5,10,15])))\n",
    "#first square roots every item in list \n",
    "#then adds them up \n",
    "#then rounds up"
   ]
  },
  {
   "cell_type": "code",
   "execution_count": 8,
   "id": "eebe06a7-9a01-495d-9023-877c623f9d9c",
   "metadata": {},
   "outputs": [],
   "source": [
    "abc = np.array([5,9,13])"
   ]
  },
  {
   "cell_type": "code",
   "execution_count": 9,
   "id": "cb055944-2b06-44f6-82af-be46c71433c8",
   "metadata": {},
   "outputs": [
    {
     "data": {
      "text/plain": [
       "numpy.ndarray"
      ]
     },
     "execution_count": 9,
     "metadata": {},
     "output_type": "execute_result"
    }
   ],
   "source": [
    "type(abc)"
   ]
  },
  {
   "cell_type": "code",
   "execution_count": 10,
   "id": "50503026-d8ba-437a-a273-031fbf81426f",
   "metadata": {},
   "outputs": [
    {
     "name": "stdout",
     "output_type": "stream",
     "text": [
      "[[1 2]\n",
      " [3 4]\n",
      " [4 5]]\n",
      "\n",
      " int64\n"
     ]
    }
   ],
   "source": [
    "a=np.array([[1,2],[3,4],[4,5]])\n",
    "print(a)\n",
    "print(\"\\n\", a.dtype)"
   ]
  },
  {
   "cell_type": "code",
   "execution_count": 11,
   "id": "b7abe002-10ee-4fc0-be21-10facd61839e",
   "metadata": {},
   "outputs": [
    {
     "data": {
      "text/plain": [
       "array([1., 2., 3.])"
      ]
     },
     "execution_count": 11,
     "metadata": {},
     "output_type": "execute_result"
    }
   ],
   "source": [
    "np.array([1,2,3],dtype=float) ## turn numbers to float"
   ]
  },
  {
   "cell_type": "code",
   "execution_count": 12,
   "id": "eb55187f-c10a-468a-abe5-b90166f5deb6",
   "metadata": {},
   "outputs": [
    {
     "name": "stdout",
     "output_type": "stream",
     "text": [
      "[1 2]\n"
     ]
    }
   ],
   "source": [
    "a=[1,2]\n",
    "c=np.array(a)\n",
    "print(c) # converted to an array"
   ]
  },
  {
   "cell_type": "code",
   "execution_count": 13,
   "id": "c4a91ca9-9bce-4185-891a-bd49a753aa06",
   "metadata": {},
   "outputs": [
    {
     "name": "stdout",
     "output_type": "stream",
     "text": [
      "[1 2]\n"
     ]
    }
   ],
   "source": [
    "b=np.asarray(c)\n",
    "print(b)"
   ]
  },
  {
   "cell_type": "code",
   "execution_count": 21,
   "id": "de76ec6e-ec24-4307-962a-8f71596c4e0c",
   "metadata": {},
   "outputs": [],
   "source": [
    "import numpy as np"
   ]
  },
  {
   "cell_type": "code",
   "execution_count": 22,
   "id": "800d6d8b-4377-4cb8-8f3b-0dac3991b9c6",
   "metadata": {},
   "outputs": [
    {
     "data": {
      "text/plain": [
       "array([0, 1, 2, 3, 4, 5, 6, 7, 8, 9])"
      ]
     },
     "execution_count": 22,
     "metadata": {},
     "output_type": "execute_result"
    }
   ],
   "source": [
    "a = np.arange(10)\n",
    "a"
   ]
  },
  {
   "cell_type": "code",
   "execution_count": 24,
   "id": "9ae511a3-3b59-490a-87bf-4418bb5bcd73",
   "metadata": {},
   "outputs": [
    {
     "data": {
      "text/plain": [
       "array([10.5, 12.5, 14.5, 16.5, 18.5])"
      ]
     },
     "execution_count": 24,
     "metadata": {},
     "output_type": "execute_result"
    }
   ],
   "source": [
    "a=np.arange(10.5,20.4,2) # from 10.5 to under 20.4, incrimenting by 2\n",
    "a"
   ]
  },
  {
   "cell_type": "code",
   "execution_count": 26,
   "id": "73a28d7a-ee96-4a25-a3ea-fa318c9b7be3",
   "metadata": {},
   "outputs": [
    {
     "data": {
      "text/plain": [
       "array([50, 45, 40, 35, 30, 25, 20, 15, 10,  5,  0])"
      ]
     },
     "execution_count": 26,
     "metadata": {},
     "output_type": "execute_result"
    }
   ],
   "source": [
    "a = np.arange(50,-1,-5) #decrement by 5 until -1\n",
    "a"
   ]
  },
  {
   "cell_type": "code",
   "execution_count": 28,
   "id": "8fa4b70f-7d0f-4768-ac1d-5ebeb81b99be",
   "metadata": {},
   "outputs": [
    {
     "data": {
      "text/plain": [
       "array([10. , 17.5, 25. , 32.5, 40. ])"
      ]
     },
     "execution_count": 28,
     "metadata": {},
     "output_type": "execute_result"
    }
   ],
   "source": [
    "a = np.linspace(10,40,5) # 5 numbers equally apart from 10 to 40\n",
    "a"
   ]
  },
  {
   "cell_type": "code",
   "execution_count": 30,
   "id": "dc758658-3962-408e-83de-70593b868ab6",
   "metadata": {},
   "outputs": [
    {
     "data": {
      "text/plain": [
       "(array([2.        , 2.33333333, 2.66666667, 3.        ]),\n",
       " np.float64(0.3333333333333333))"
      ]
     },
     "execution_count": 30,
     "metadata": {},
     "output_type": "execute_result"
    }
   ],
   "source": [
    "a = np.linspace(2.0,3.0,num=4,endpoint=True,retstep=True)\n",
    "#start from 2, end at 3 (inclusive bc endpoint = true), 4 numbers, show the increment\n",
    "a"
   ]
  },
  {
   "cell_type": "code",
   "execution_count": 31,
   "id": "61a69f8a-e3e1-497c-92b6-ff41c63a9bd9",
   "metadata": {},
   "outputs": [
    {
     "name": "stdout",
     "output_type": "stream",
     "text": [
      "[0. 0. 0. 0. 0.]\n"
     ]
    }
   ],
   "source": [
    "print(np.zeros([5])) #vector of zeros"
   ]
  },
  {
   "cell_type": "code",
   "execution_count": 32,
   "id": "586330e0-9596-4c56-8197-188ef5e717c3",
   "metadata": {},
   "outputs": [
    {
     "name": "stdout",
     "output_type": "stream",
     "text": [
      "[[0. 0. 0. 0. 0. 0.]\n",
      " [0. 0. 0. 0. 0. 0.]\n",
      " [0. 0. 0. 0. 0. 0.]\n",
      " [0. 0. 0. 0. 0. 0.]\n",
      " [0. 0. 0. 0. 0. 0.]]\n"
     ]
    }
   ],
   "source": [
    "print(np.zeros([5,6]))"
   ]
  },
  {
   "cell_type": "code",
   "execution_count": 33,
   "id": "f0708134-401d-4c43-a320-580cdb5c26bd",
   "metadata": {},
   "outputs": [
    {
     "name": "stdout",
     "output_type": "stream",
     "text": [
      "[[1. 1. 1. 1. 1. 1.]\n",
      " [1. 1. 1. 1. 1. 1.]\n",
      " [1. 1. 1. 1. 1. 1.]\n",
      " [1. 1. 1. 1. 1. 1.]\n",
      " [1. 1. 1. 1. 1. 1.]]\n"
     ]
    }
   ],
   "source": [
    "print(np.ones([5,6]))"
   ]
  },
  {
   "cell_type": "code",
   "execution_count": 34,
   "id": "be1a172f-c4e2-43bf-8a65-3b64626002f0",
   "metadata": {},
   "outputs": [
    {
     "name": "stdout",
     "output_type": "stream",
     "text": [
      "[[4. 4. 4. 4. 4. 4.]\n",
      " [4. 4. 4. 4. 4. 4.]\n",
      " [4. 4. 4. 4. 4. 4.]\n",
      " [4. 4. 4. 4. 4. 4.]\n",
      " [4. 4. 4. 4. 4. 4.]]\n"
     ]
    }
   ],
   "source": [
    "print(4*np.ones([5,6]))"
   ]
  },
  {
   "cell_type": "code",
   "execution_count": 35,
   "id": "0262c83a-0e3f-48f9-83ed-31644d5ca7d4",
   "metadata": {},
   "outputs": [
    {
     "name": "stdout",
     "output_type": "stream",
     "text": [
      "[[ 0  1  2  3  4  5]\n",
      " [ 6  7  8  9 10 11]\n",
      " [12 13 14 15 16 17]\n",
      " [18 19 20 21 22 23]\n",
      " [24 25 26 27 28 29]]\n"
     ]
    }
   ],
   "source": [
    "print(np.arange(30).reshape(5,6))"
   ]
  },
  {
   "cell_type": "code",
   "execution_count": 38,
   "id": "5fb445e9-c18b-42da-a846-da2a903a1b0d",
   "metadata": {},
   "outputs": [
    {
     "name": "stdout",
     "output_type": "stream",
     "text": [
      "[[0.89286015 0.33197981 0.82122912 0.04169663 0.10765668 0.59505206]\n",
      " [0.52981736 0.41880743 0.33540785 0.62251943 0.43814143 0.73588211]\n",
      " [0.51803641 0.5788586  0.6453551  0.99022427 0.8198582  0.41320093]\n",
      " [0.87626766 0.82375943 0.05447451 0.71863724 0.80217056 0.73640664]\n",
      " [0.70913175 0.54093685 0.12482417 0.9576473  0.4032563  0.21695116]\n",
      " [0.71727585 0.99420744 0.25561406 0.67130943 0.59900591 0.71733215]\n",
      " [0.93734953 0.35180977 0.2536341  0.40247251 0.74651072 0.72407057]\n",
      " [0.4061078  0.98937985 0.45049928 0.37380843 0.70962861 0.08245855]\n",
      " [0.39837292 0.77088097 0.76475098 0.28385938 0.18954219 0.47125096]\n",
      " [0.33480604 0.73473504 0.18910712 0.33110407 0.84422842 0.61502403]]\n"
     ]
    }
   ],
   "source": [
    "np.random.seed(6) \n",
    "print(np.random.rand(10,6)) ## seed prints similar values between dif computers"
   ]
  },
  {
   "cell_type": "code",
   "execution_count": 43,
   "id": "d74bf3b3-b962-45f7-b0c9-9a5949a32941",
   "metadata": {},
   "outputs": [
    {
     "data": {
      "text/plain": [
       "array([12, 13,  5, 15, 17, 18, 17, 13, 14,  7])"
      ]
     },
     "execution_count": 43,
     "metadata": {},
     "output_type": "execute_result"
    }
   ],
   "source": [
    "a = np.random.randint(5,20,10)\n",
    "# numbers between 5 inclusive and 20 exclusive - 10 numbers\n",
    "a"
   ]
  },
  {
   "cell_type": "code",
   "execution_count": 44,
   "id": "2ad613e0-ff45-40d0-9dca-4eea57776bec",
   "metadata": {},
   "outputs": [],
   "source": [
    "### OTP GENERATOR"
   ]
  },
  {
   "cell_type": "code",
   "execution_count": 47,
   "id": "78e2e152-fbc6-453a-97ff-6292224b239b",
   "metadata": {},
   "outputs": [],
   "source": [
    "def generate_otp():\n",
    "    otp_in = np.random.randint(1000,10000,1)\n",
    "    print(\"Hello, your OTP is \", otp_in)\n",
    "    user_in = int(input(\"Please enter ur OTP here \\n\"))\n",
    "    \n",
    "    if otp_in==user_in:\n",
    "        print(\"succesful\")\n",
    "    else:\n",
    "        print(\"incorrect\")"
   ]
  },
  {
   "cell_type": "code",
   "execution_count": 48,
   "id": "d4e47469-da25-4b44-a28d-18d4fffb7162",
   "metadata": {},
   "outputs": [
    {
     "name": "stdout",
     "output_type": "stream",
     "text": [
      "Hello, your OTP is  [2021]\n"
     ]
    },
    {
     "name": "stdin",
     "output_type": "stream",
     "text": [
      "Please enter ur OTP here \n",
      " 2021\n"
     ]
    },
    {
     "name": "stdout",
     "output_type": "stream",
     "text": [
      "succesful\n"
     ]
    }
   ],
   "source": [
    "generate_otp()"
   ]
  },
  {
   "cell_type": "code",
   "execution_count": null,
   "id": "26e5bb1f-5081-4f9a-833e-98fc65704a14",
   "metadata": {},
   "outputs": [],
   "source": []
  }
 ],
 "metadata": {
  "kernelspec": {
   "display_name": "Python 3 (ipykernel)",
   "language": "python",
   "name": "python3"
  },
  "language_info": {
   "codemirror_mode": {
    "name": "ipython",
    "version": 3
   },
   "file_extension": ".py",
   "mimetype": "text/x-python",
   "name": "python",
   "nbconvert_exporter": "python",
   "pygments_lexer": "ipython3",
   "version": "3.12.4"
  }
 },
 "nbformat": 4,
 "nbformat_minor": 5
}
