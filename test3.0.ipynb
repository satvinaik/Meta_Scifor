{
 "cells": [
  {
   "cell_type": "raw",
   "id": "4720d2a0-29ad-428e-b9b7-b354e76306f1",
   "metadata": {},
   "source": [
    "TEST 3"
   ]
  },
  {
   "cell_type": "code",
   "execution_count": 25,
   "id": "de701a83-e8d6-4640-b272-e52a78aaf413",
   "metadata": {},
   "outputs": [],
   "source": [
    "import pandas as pd\n",
    "import numpy as np"
   ]
  },
  {
   "cell_type": "code",
   "execution_count": 26,
   "id": "6384738e-9a7f-421a-a884-8b658801f29b",
   "metadata": {},
   "outputs": [],
   "source": [
    "## question 1"
   ]
  },
  {
   "cell_type": "code",
   "execution_count": 37,
   "id": "88a08f41-4e61-4d21-afc0-e3a61d8f189d",
   "metadata": {},
   "outputs": [],
   "source": [
    "##creating dataframe\n",
    "data = {\n",
    "'Name': ['Alice', 'Bob', 'Charlie', 'David', 'Eve'], \n",
    "'Age': [24, 27, 22, 32, 29],\n",
    "'Score': [85.5, 90.3, 88.0, 92.1, 78.8]\n",
    "}\n",
    "\n",
    "dframe = pd.DataFrame(data)"
   ]
  },
  {
   "cell_type": "code",
   "execution_count": 38,
   "id": "4b93e594-f945-4c4b-8b8c-f46d56dd293e",
   "metadata": {},
   "outputs": [],
   "source": [
    "## question 2"
   ]
  },
  {
   "cell_type": "code",
   "execution_count": 39,
   "id": "71c389af-919f-4b98-92e7-c8ef4e007769",
   "metadata": {},
   "outputs": [
    {
     "data": {
      "text/html": [
       "<div>\n",
       "<style scoped>\n",
       "    .dataframe tbody tr th:only-of-type {\n",
       "        vertical-align: middle;\n",
       "    }\n",
       "\n",
       "    .dataframe tbody tr th {\n",
       "        vertical-align: top;\n",
       "    }\n",
       "\n",
       "    .dataframe thead th {\n",
       "        text-align: right;\n",
       "    }\n",
       "</style>\n",
       "<table border=\"1\" class=\"dataframe\">\n",
       "  <thead>\n",
       "    <tr style=\"text-align: right;\">\n",
       "      <th></th>\n",
       "      <th>Name</th>\n",
       "      <th>Age</th>\n",
       "      <th>Score</th>\n",
       "    </tr>\n",
       "  </thead>\n",
       "  <tbody>\n",
       "    <tr>\n",
       "      <th>0</th>\n",
       "      <td>Alice</td>\n",
       "      <td>24</td>\n",
       "      <td>85.5</td>\n",
       "    </tr>\n",
       "    <tr>\n",
       "      <th>1</th>\n",
       "      <td>Bob</td>\n",
       "      <td>27</td>\n",
       "      <td>90.3</td>\n",
       "    </tr>\n",
       "    <tr>\n",
       "      <th>2</th>\n",
       "      <td>Charlie</td>\n",
       "      <td>22</td>\n",
       "      <td>88.0</td>\n",
       "    </tr>\n",
       "  </tbody>\n",
       "</table>\n",
       "</div>"
      ],
      "text/plain": [
       "      Name  Age  Score\n",
       "0    Alice   24   85.5\n",
       "1      Bob   27   90.3\n",
       "2  Charlie   22   88.0"
      ]
     },
     "execution_count": 39,
     "metadata": {},
     "output_type": "execute_result"
    }
   ],
   "source": [
    "##displaying first 3 rows\n",
    "dframe.head(3)"
   ]
  },
  {
   "cell_type": "code",
   "execution_count": 40,
   "id": "00c5f7bf-58a0-4a99-82c4-4e86baac2381",
   "metadata": {},
   "outputs": [],
   "source": [
    "## question 3"
   ]
  },
  {
   "cell_type": "code",
   "execution_count": 41,
   "id": "58177427-808d-4611-a131-5a770ce505cd",
   "metadata": {},
   "outputs": [
    {
     "data": {
      "text/html": [
       "<div>\n",
       "<style scoped>\n",
       "    .dataframe tbody tr th:only-of-type {\n",
       "        vertical-align: middle;\n",
       "    }\n",
       "\n",
       "    .dataframe tbody tr th {\n",
       "        vertical-align: top;\n",
       "    }\n",
       "\n",
       "    .dataframe thead th {\n",
       "        text-align: right;\n",
       "    }\n",
       "</style>\n",
       "<table border=\"1\" class=\"dataframe\">\n",
       "  <thead>\n",
       "    <tr style=\"text-align: right;\">\n",
       "      <th></th>\n",
       "      <th>Name</th>\n",
       "      <th>Score</th>\n",
       "    </tr>\n",
       "  </thead>\n",
       "  <tbody>\n",
       "    <tr>\n",
       "      <th>0</th>\n",
       "      <td>Alice</td>\n",
       "      <td>85.5</td>\n",
       "    </tr>\n",
       "    <tr>\n",
       "      <th>1</th>\n",
       "      <td>Bob</td>\n",
       "      <td>90.3</td>\n",
       "    </tr>\n",
       "    <tr>\n",
       "      <th>2</th>\n",
       "      <td>Charlie</td>\n",
       "      <td>88.0</td>\n",
       "    </tr>\n",
       "    <tr>\n",
       "      <th>3</th>\n",
       "      <td>David</td>\n",
       "      <td>92.1</td>\n",
       "    </tr>\n",
       "    <tr>\n",
       "      <th>4</th>\n",
       "      <td>Eve</td>\n",
       "      <td>78.8</td>\n",
       "    </tr>\n",
       "  </tbody>\n",
       "</table>\n",
       "</div>"
      ],
      "text/plain": [
       "      Name  Score\n",
       "0    Alice   85.5\n",
       "1      Bob   90.3\n",
       "2  Charlie   88.0\n",
       "3    David   92.1\n",
       "4      Eve   78.8"
      ]
     },
     "execution_count": 41,
     "metadata": {},
     "output_type": "execute_result"
    }
   ],
   "source": [
    "## only displaying Name and Score collumns\n",
    "dframe[['Name','Score']]"
   ]
  },
  {
   "cell_type": "code",
   "execution_count": 42,
   "id": "7ff1401d-6368-451c-b29e-1cc76a9122f1",
   "metadata": {},
   "outputs": [
    {
     "data": {
      "text/html": [
       "<div>\n",
       "<style scoped>\n",
       "    .dataframe tbody tr th:only-of-type {\n",
       "        vertical-align: middle;\n",
       "    }\n",
       "\n",
       "    .dataframe tbody tr th {\n",
       "        vertical-align: top;\n",
       "    }\n",
       "\n",
       "    .dataframe thead th {\n",
       "        text-align: right;\n",
       "    }\n",
       "</style>\n",
       "<table border=\"1\" class=\"dataframe\">\n",
       "  <thead>\n",
       "    <tr style=\"text-align: right;\">\n",
       "      <th></th>\n",
       "      <th>Name</th>\n",
       "      <th>Age</th>\n",
       "      <th>Score</th>\n",
       "    </tr>\n",
       "  </thead>\n",
       "  <tbody>\n",
       "    <tr>\n",
       "      <th>0</th>\n",
       "      <td>Alice</td>\n",
       "      <td>24</td>\n",
       "      <td>85.5</td>\n",
       "    </tr>\n",
       "    <tr>\n",
       "      <th>1</th>\n",
       "      <td>Bob</td>\n",
       "      <td>27</td>\n",
       "      <td>90.3</td>\n",
       "    </tr>\n",
       "    <tr>\n",
       "      <th>2</th>\n",
       "      <td>Charlie</td>\n",
       "      <td>22</td>\n",
       "      <td>88.0</td>\n",
       "    </tr>\n",
       "    <tr>\n",
       "      <th>3</th>\n",
       "      <td>David</td>\n",
       "      <td>32</td>\n",
       "      <td>92.1</td>\n",
       "    </tr>\n",
       "    <tr>\n",
       "      <th>4</th>\n",
       "      <td>Eve</td>\n",
       "      <td>29</td>\n",
       "      <td>78.8</td>\n",
       "    </tr>\n",
       "  </tbody>\n",
       "</table>\n",
       "</div>"
      ],
      "text/plain": [
       "      Name  Age  Score\n",
       "0    Alice   24   85.5\n",
       "1      Bob   27   90.3\n",
       "2  Charlie   22   88.0\n",
       "3    David   32   92.1\n",
       "4      Eve   29   78.8"
      ]
     },
     "execution_count": 42,
     "metadata": {},
     "output_type": "execute_result"
    }
   ],
   "source": [
    "dframe"
   ]
  },
  {
   "cell_type": "code",
   "execution_count": 20,
   "id": "fe2044ae-d430-4afe-972c-617510924395",
   "metadata": {},
   "outputs": [],
   "source": [
    "##question 4"
   ]
  },
  {
   "cell_type": "code",
   "execution_count": 21,
   "id": "2e081610-92a9-45a9-b8aa-4723a86337b1",
   "metadata": {},
   "outputs": [
    {
     "name": "stdout",
     "output_type": "stream",
     "text": [
      "    Name  Age  Score\n",
      "1    Bob   27   90.3\n",
      "3  David   32   92.1\n",
      "4    Eve   29   78.8\n"
     ]
    }
   ],
   "source": [
    "print(dframe[dframe['Age'] > 25])"
   ]
  },
  {
   "cell_type": "code",
   "execution_count": 22,
   "id": "5d452dca-672e-44c2-9021-4867b3ac2fc8",
   "metadata": {},
   "outputs": [],
   "source": [
    "## question 5"
   ]
  },
  {
   "cell_type": "code",
   "execution_count": 43,
   "id": "a6ec13e3-e576-480b-8263-15b903f8cfa9",
   "metadata": {},
   "outputs": [
    {
     "data": {
      "text/html": [
       "<div>\n",
       "<style scoped>\n",
       "    .dataframe tbody tr th:only-of-type {\n",
       "        vertical-align: middle;\n",
       "    }\n",
       "\n",
       "    .dataframe tbody tr th {\n",
       "        vertical-align: top;\n",
       "    }\n",
       "\n",
       "    .dataframe thead th {\n",
       "        text-align: right;\n",
       "    }\n",
       "</style>\n",
       "<table border=\"1\" class=\"dataframe\">\n",
       "  <thead>\n",
       "    <tr style=\"text-align: right;\">\n",
       "      <th></th>\n",
       "      <th>Name</th>\n",
       "      <th>Age</th>\n",
       "      <th>Score</th>\n",
       "      <th>Passed</th>\n",
       "    </tr>\n",
       "  </thead>\n",
       "  <tbody>\n",
       "    <tr>\n",
       "      <th>0</th>\n",
       "      <td>Alice</td>\n",
       "      <td>24</td>\n",
       "      <td>85.5</td>\n",
       "      <td>True</td>\n",
       "    </tr>\n",
       "    <tr>\n",
       "      <th>1</th>\n",
       "      <td>Bob</td>\n",
       "      <td>27</td>\n",
       "      <td>90.3</td>\n",
       "      <td>True</td>\n",
       "    </tr>\n",
       "    <tr>\n",
       "      <th>2</th>\n",
       "      <td>Charlie</td>\n",
       "      <td>22</td>\n",
       "      <td>88.0</td>\n",
       "      <td>True</td>\n",
       "    </tr>\n",
       "    <tr>\n",
       "      <th>3</th>\n",
       "      <td>David</td>\n",
       "      <td>32</td>\n",
       "      <td>92.1</td>\n",
       "      <td>True</td>\n",
       "    </tr>\n",
       "    <tr>\n",
       "      <th>4</th>\n",
       "      <td>Eve</td>\n",
       "      <td>29</td>\n",
       "      <td>78.8</td>\n",
       "      <td>False</td>\n",
       "    </tr>\n",
       "  </tbody>\n",
       "</table>\n",
       "</div>"
      ],
      "text/plain": [
       "      Name  Age  Score  Passed\n",
       "0    Alice   24   85.5    True\n",
       "1      Bob   27   90.3    True\n",
       "2  Charlie   22   88.0    True\n",
       "3    David   32   92.1    True\n",
       "4      Eve   29   78.8   False"
      ]
     },
     "execution_count": 43,
     "metadata": {},
     "output_type": "execute_result"
    }
   ],
   "source": [
    "dframe['Passed'] = dframe['Score'] > 80\n",
    "dframe"
   ]
  },
  {
   "cell_type": "code",
   "execution_count": 44,
   "id": "93519600-b000-4811-84c6-f961d130d1ba",
   "metadata": {},
   "outputs": [],
   "source": [
    "## question 6"
   ]
  },
  {
   "cell_type": "code",
   "execution_count": 45,
   "id": "f8e2fbbe-8a1a-4384-a1eb-8d74a5463c3a",
   "metadata": {},
   "outputs": [
    {
     "data": {
      "text/html": [
       "<div>\n",
       "<style scoped>\n",
       "    .dataframe tbody tr th:only-of-type {\n",
       "        vertical-align: middle;\n",
       "    }\n",
       "\n",
       "    .dataframe tbody tr th {\n",
       "        vertical-align: top;\n",
       "    }\n",
       "\n",
       "    .dataframe thead th {\n",
       "        text-align: right;\n",
       "    }\n",
       "</style>\n",
       "<table border=\"1\" class=\"dataframe\">\n",
       "  <thead>\n",
       "    <tr style=\"text-align: right;\">\n",
       "      <th></th>\n",
       "      <th>Name</th>\n",
       "      <th>Age</th>\n",
       "      <th>Score</th>\n",
       "      <th>Passed</th>\n",
       "    </tr>\n",
       "  </thead>\n",
       "  <tbody>\n",
       "    <tr>\n",
       "      <th>3</th>\n",
       "      <td>David</td>\n",
       "      <td>32</td>\n",
       "      <td>92.1</td>\n",
       "      <td>True</td>\n",
       "    </tr>\n",
       "    <tr>\n",
       "      <th>1</th>\n",
       "      <td>Bob</td>\n",
       "      <td>27</td>\n",
       "      <td>90.3</td>\n",
       "      <td>True</td>\n",
       "    </tr>\n",
       "    <tr>\n",
       "      <th>2</th>\n",
       "      <td>Charlie</td>\n",
       "      <td>22</td>\n",
       "      <td>88.0</td>\n",
       "      <td>True</td>\n",
       "    </tr>\n",
       "    <tr>\n",
       "      <th>0</th>\n",
       "      <td>Alice</td>\n",
       "      <td>24</td>\n",
       "      <td>85.5</td>\n",
       "      <td>True</td>\n",
       "    </tr>\n",
       "    <tr>\n",
       "      <th>4</th>\n",
       "      <td>Eve</td>\n",
       "      <td>29</td>\n",
       "      <td>78.8</td>\n",
       "      <td>False</td>\n",
       "    </tr>\n",
       "  </tbody>\n",
       "</table>\n",
       "</div>"
      ],
      "text/plain": [
       "      Name  Age  Score  Passed\n",
       "3    David   32   92.1    True\n",
       "1      Bob   27   90.3    True\n",
       "2  Charlie   22   88.0    True\n",
       "0    Alice   24   85.5    True\n",
       "4      Eve   29   78.8   False"
      ]
     },
     "execution_count": 45,
     "metadata": {},
     "output_type": "execute_result"
    }
   ],
   "source": [
    "sort = dframe.sort_values(by='Score', ascending=False)\n",
    "sort"
   ]
  },
  {
   "cell_type": "code",
   "execution_count": 46,
   "id": "4b16e34d-df21-4a7c-a6ce-531a012b1e2c",
   "metadata": {},
   "outputs": [],
   "source": [
    "## question 7 "
   ]
  },
  {
   "cell_type": "code",
   "execution_count": 48,
   "id": "dfa76e83-7ce6-4ab4-adc2-fc6b87e362f0",
   "metadata": {},
   "outputs": [
    {
     "name": "stdout",
     "output_type": "stream",
     "text": [
      "Passed\n",
      "False    78.800\n",
      "True     88.975\n",
      "Name: Score, dtype: float64\n"
     ]
    }
   ],
   "source": [
    "mean = dframe.groupby('Passed')['Score'].mean()\n",
    "print(mean)"
   ]
  },
  {
   "cell_type": "code",
   "execution_count": 49,
   "id": "8398525b-7da8-44cf-8ef3-6b22d6604134",
   "metadata": {},
   "outputs": [],
   "source": [
    "## question 8"
   ]
  },
  {
   "cell_type": "code",
   "execution_count": 51,
   "id": "f731f13e-21b8-4174-a5c7-d64a85f08b3f",
   "metadata": {},
   "outputs": [
    {
     "name": "stdout",
     "output_type": "stream",
     "text": [
      "      Name  Age  Score  Passed  Attendance\n",
      "0    Alice   24   85.5    True   90.000000\n",
      "1      Bob   27   90.3    True   87.333333\n",
      "2  Charlie   22   88.0    True   85.000000\n",
      "3    David   32   92.1    True   87.000000\n",
      "4      Eve   29   78.8   False   87.333333\n"
     ]
    },
    {
     "name": "stderr",
     "output_type": "stream",
     "text": [
      "/var/folders/8c/w2y0rnsd72q8bp9q6vt0lmhr0000gn/T/ipykernel_13320/464101541.py:3: FutureWarning: A value is trying to be set on a copy of a DataFrame or Series through chained assignment using an inplace method.\n",
      "The behavior will change in pandas 3.0. This inplace method will never work because the intermediate object on which we are setting values always behaves as a copy.\n",
      "\n",
      "For example, when doing 'df[col].method(value, inplace=True)', try using 'df.method({col: value}, inplace=True)' or df[col] = df[col].method(value) instead, to perform the operation inplace on the original object.\n",
      "\n",
      "\n",
      "  dframe['Attendance'].fillna(dframe['Attendance'].mean(), inplace=True)\n"
     ]
    }
   ],
   "source": [
    "dframe['Attendance'] = [90, np.nan, 85, 87, np.nan]\n",
    "\n",
    "dframe['Attendance'].fillna(dframe['Attendance'].mean(), inplace=True)\n",
    "\n",
    "print(dframe)"
   ]
  },
  {
   "cell_type": "raw",
   "id": "672ac82d-1c67-41e2-9511-df37a49de2e4",
   "metadata": {},
   "source": [
    "NUMPY"
   ]
  },
  {
   "cell_type": "code",
   "execution_count": 52,
   "id": "f6f348c7-212d-457f-ad32-a643e9b670ca",
   "metadata": {},
   "outputs": [],
   "source": [
    "## question 1"
   ]
  },
  {
   "cell_type": "code",
   "execution_count": 53,
   "id": "7ab43f97-96c7-4f1e-8733-84fb463d0ff2",
   "metadata": {},
   "outputs": [
    {
     "name": "stdout",
     "output_type": "stream",
     "text": [
      "[10 11 12 13 14 15 16 17 18 19]\n"
     ]
    }
   ],
   "source": [
    "arr = np.arange(10, 20)\n",
    "\n",
    "print(arr)"
   ]
  },
  {
   "cell_type": "code",
   "execution_count": 54,
   "id": "95499b67-a25c-4e4f-a347-5f0bce5e5d86",
   "metadata": {},
   "outputs": [],
   "source": [
    "## question 2"
   ]
  },
  {
   "cell_type": "code",
   "execution_count": 56,
   "id": "d5e9cc9c-57b9-40fa-ac4c-1431e06c1283",
   "metadata": {},
   "outputs": [
    {
     "data": {
      "text/plain": [
       "array([[10, 11, 12, 13, 14],\n",
       "       [15, 16, 17, 18, 19]])"
      ]
     },
     "execution_count": 56,
     "metadata": {},
     "output_type": "execute_result"
    }
   ],
   "source": [
    "reshape = arr.reshape(2, 5)\n",
    "reshape    "
   ]
  },
  {
   "cell_type": "code",
   "execution_count": 57,
   "id": "7b6a5801-3629-472e-9825-917d455e4a6a",
   "metadata": {},
   "outputs": [],
   "source": [
    "## question 3"
   ]
  },
  {
   "cell_type": "code",
   "execution_count": 58,
   "id": "47225575-0af3-447b-b236-6f36782cfb97",
   "metadata": {},
   "outputs": [
    {
     "data": {
      "text/plain": [
       "(array([5, 7, 9]), array([ 4, 10, 18]))"
      ]
     },
     "execution_count": 58,
     "metadata": {},
     "output_type": "execute_result"
    }
   ],
   "source": [
    "array1 = np.array([1, 2, 3])\n",
    "array2 = np.array([4, 5, 6])\n",
    "add = array1 + array2\n",
    "mult = array1 * array2\n",
    "\n",
    "add, mult"
   ]
  },
  {
   "cell_type": "code",
   "execution_count": 59,
   "id": "e651fd16-c9d0-4a76-b0b9-dea9643c461e",
   "metadata": {},
   "outputs": [],
   "source": [
    "## question 4"
   ]
  },
  {
   "cell_type": "code",
   "execution_count": 60,
   "id": "cd63b4bb-4d61-4bbf-b47d-12f83d6d5805",
   "metadata": {},
   "outputs": [
    {
     "data": {
      "text/plain": [
       "array([20, 40])"
      ]
     },
     "execution_count": 60,
     "metadata": {},
     "output_type": "execute_result"
    }
   ],
   "source": [
    "arr = np.array([10, 20, 30, 40, 50])\n",
    "\n",
    "select= arr[[1, 3]]\n",
    "select"
   ]
  },
  {
   "cell_type": "code",
   "execution_count": 61,
   "id": "e15bdbf9-156a-4eea-8239-faa84dc454b7",
   "metadata": {},
   "outputs": [],
   "source": [
    "## question 5"
   ]
  },
  {
   "cell_type": "code",
   "execution_count": 62,
   "id": "8fef1e81-86b8-4656-a82e-00c1104dac78",
   "metadata": {},
   "outputs": [
    {
     "data": {
      "text/plain": [
       "array([2, 3, 4])"
      ]
     },
     "execution_count": 62,
     "metadata": {},
     "output_type": "execute_result"
    }
   ],
   "source": [
    "arr = np.array([1, 2, 3, 4, 5, 6])\n",
    "\n",
    "slice = arr[1:4]\n",
    "slice"
   ]
  },
  {
   "cell_type": "code",
   "execution_count": 63,
   "id": "ad532a3a-fd1b-4cbb-8d8a-8ff9d182b71f",
   "metadata": {},
   "outputs": [],
   "source": [
    "## question 6"
   ]
  },
  {
   "cell_type": "code",
   "execution_count": 64,
   "id": "70afe8a9-3e26-4be2-9be5-53ffc0ecdd00",
   "metadata": {},
   "outputs": [
    {
     "name": "stdout",
     "output_type": "stream",
     "text": [
      "mean: 30.0\n",
      "standard deviation: 14.142135623730951\n"
     ]
    }
   ],
   "source": [
    "array = np.array([10, 20, 30, 40, 50])\n",
    "\n",
    "mean = np.mean(array)\n",
    "std = np.std(array)\n",
    "\n",
    "print(\"mean:\", mean)\n",
    "print(\"standard deviation:\", std)"
   ]
  },
  {
   "cell_type": "code",
   "execution_count": 65,
   "id": "ca6e69bb-ee42-4358-879d-dd705ccdb805",
   "metadata": {},
   "outputs": [],
   "source": [
    "## question 7"
   ]
  },
  {
   "cell_type": "code",
   "execution_count": 66,
   "id": "a56963be-e5e4-46a3-b8af-5f5e1f2d96d5",
   "metadata": {},
   "outputs": [
    {
     "name": "stdout",
     "output_type": "stream",
     "text": [
      "Result: [[ 22  30  51]\n",
      " [ 52  60  81]\n",
      " [ 82  90 111]]\n"
     ]
    }
   ],
   "source": [
    "m = np.array([[10, 20, 30],\n",
    "                   [40, 50, 60],\n",
    "                   [70, 80, 90]])\n",
    "\n",
    "v = np.array([12, 10, 21])\n",
    "\n",
    "r = m + v\n",
    "\n",
    "print(\"Result:\", r)"
   ]
  },
  {
   "cell_type": "code",
   "execution_count": 67,
   "id": "6e5360c1-922c-4b38-96a7-b651440cac93",
   "metadata": {},
   "outputs": [],
   "source": [
    "## question 8"
   ]
  },
  {
   "cell_type": "code",
   "execution_count": 69,
   "id": "c1b22a56-cc14-4a87-9fa8-ead7d6e07f01",
   "metadata": {},
   "outputs": [
    {
     "data": {
      "text/plain": [
       "array([[1., 0., 0.],\n",
       "       [0., 1., 0.],\n",
       "       [0., 0., 1.]])"
      ]
     },
     "execution_count": 69,
     "metadata": {},
     "output_type": "execute_result"
    }
   ],
   "source": [
    "matrix = np.eye(3)\n",
    "matrix"
   ]
  },
  {
   "cell_type": "raw",
   "id": "0145909b-17f6-4b85-bdd9-ea052dc8ab8f",
   "metadata": {},
   "source": [
    "data visualization"
   ]
  },
  {
   "cell_type": "code",
   "execution_count": 70,
   "id": "de5e7f59-ecf6-4197-b572-05249a17ef7f",
   "metadata": {},
   "outputs": [],
   "source": [
    "#question 1"
   ]
  },
  {
   "cell_type": "code",
   "execution_count": 71,
   "id": "ff1a86e3-da7d-47d7-a7d3-a32ac09de69a",
   "metadata": {},
   "outputs": [],
   "source": [
    "import seaborn as sns\n",
    "import matplotlib.pyplot as plt"
   ]
  },
  {
   "cell_type": "code",
   "execution_count": 72,
   "id": "f287d792-135b-470f-be49-3a532cddd017",
   "metadata": {},
   "outputs": [
    {
     "data": {
      "image/png": "[encoded data removed]",
      "text/plain": [
       "<Figure size 640x480 with 1 Axes>"
      ]
     },
     "metadata": {},
     "output_type": "display_data"
    }
   ],
   "source": [
    "data = [12, 15, 14, 10, 8, 11, 14, 18, 22, 24, 30, 28, 26, 30, 32, 35, 38]\n",
    "\n",
    "sns.boxplot(data=data)\n",
    "\n",
    "plt.show()"
   ]
  },
  {
   "cell_type": "code",
   "execution_count": 73,
   "id": "62de7c44-860c-4d31-aa26-276a2a838f20",
   "metadata": {},
   "outputs": [],
   "source": [
    "## question 2"
   ]
  },
  {
   "cell_type": "code",
   "execution_count": 74,
   "id": "70e81df2-2771-4cff-9a0d-dc4cec8b7e69",
   "metadata": {},
   "outputs": [
    {
     "data": {
      "image/png": "[encoded data removed]",
      "text/plain": [
       "<Figure size 640x480 with 1 Axes>"
      ]
     },
     "metadata": {},
     "output_type": "display_data"
    }
   ],
   "source": [
    "plt.hist(data, bins=10)\n",
    "plt.show()   "
   ]
  },
  {
   "cell_type": "code",
   "execution_count": null,
   "id": "eb65d2b8-27ca-4f5f-b4f2-9f2bcf351c93",
   "metadata": {},
   "outputs": [],
   "source": []
  }
 ],
 "metadata": {
  "kernelspec": {
   "display_name": "Python 3 (ipykernel)",
   "language": "python",
   "name": "python3"
  },
  "language_info": {
   "codemirror_mode": {
    "name": "ipython",
    "version": 3
   },
   "file_extension": ".py",
   "mimetype": "text/x-python",
   "name": "python",
   "nbconvert_exporter": "python",
   "pygments_lexer": "ipython3",
   "version": "3.12.4"
  }
 },
 "nbformat": 4,
 "nbformat_minor": 5
}
